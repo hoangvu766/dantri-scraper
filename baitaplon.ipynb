{
  "cells": [
    {
      "cell_type": "markdown",
      "metadata": {
        "id": "view-in-github",
        "colab_type": "text"
      },
      "source": [
        "<a href=\"https://colab.research.google.com/github/hoangvu766/dantri-scraper/blob/main/baitaplon.ipynb\" target=\"_parent\"><img src=\"https://colab.research.google.com/assets/colab-badge.svg\" alt=\"Open In Colab\"/></a>"
      ]
    },
    {
      "cell_type": "code",
      "source": [
        "pip install requests"
      ],
      "metadata": {
        "colab": {
          "base_uri": "https://localhost:8080/"
        },
        "id": "cpZdDQj9UTUw",
        "outputId": "5e5c7179-0fd4-43ce-fb6a-43dcdd5f2790"
      },
      "execution_count": 2,
      "outputs": [
        {
          "output_type": "stream",
          "name": "stdout",
          "text": [
            "Requirement already satisfied: requests in /usr/local/lib/python3.11/dist-packages (2.32.3)\n",
            "Requirement already satisfied: charset-normalizer<4,>=2 in /usr/local/lib/python3.11/dist-packages (from requests) (3.4.1)\n",
            "Requirement already satisfied: idna<4,>=2.5 in /usr/local/lib/python3.11/dist-packages (from requests) (3.10)\n",
            "Requirement already satisfied: urllib3<3,>=1.21.1 in /usr/local/lib/python3.11/dist-packages (from requests) (2.4.0)\n",
            "Requirement already satisfied: certifi>=2017.4.17 in /usr/local/lib/python3.11/dist-packages (from requests) (2025.4.26)\n"
          ]
        }
      ]
    },
    {
      "source": [
        "pip install pandas"
      ],
      "cell_type": "code",
      "metadata": {
        "colab": {
          "base_uri": "https://localhost:8080/"
        },
        "id": "5L2jkqHXSKOZ",
        "outputId": "311bac6f-7818-4cf4-9d96-4a2fb0496152"
      },
      "execution_count": 3,
      "outputs": [
        {
          "output_type": "stream",
          "name": "stdout",
          "text": [
            "Requirement already satisfied: pandas in /usr/local/lib/python3.11/dist-packages (2.2.2)\n",
            "Requirement already satisfied: numpy>=1.23.2 in /usr/local/lib/python3.11/dist-packages (from pandas) (2.0.2)\n",
            "Requirement already satisfied: python-dateutil>=2.8.2 in /usr/local/lib/python3.11/dist-packages (from pandas) (2.9.0.post0)\n",
            "Requirement already satisfied: pytz>=2020.1 in /usr/local/lib/python3.11/dist-packages (from pandas) (2025.2)\n",
            "Requirement already satisfied: tzdata>=2022.7 in /usr/local/lib/python3.11/dist-packages (from pandas) (2025.2)\n",
            "Requirement already satisfied: six>=1.5 in /usr/local/lib/python3.11/dist-packages (from python-dateutil>=2.8.2->pandas) (1.17.0)\n"
          ]
        }
      ]
    },
    {
      "source": [
        "!pip install requests beautifulsoup4\n",
        "from bs4 import BeautifulSoup\n",
        "import requests\n",
        "\n",
        "def extract_article_info(url):\n",
        "    response = requests.get(url)\n",
        "    if response.status_code == 200:\n",
        "        soup = BeautifulSoup(response.text, \"html.parser\")\n",
        "        articles = soup.find_all('article', class_='cate24h-item')\n",
        "        for article in articles:\n",
        "\n",
        "            title_element = article.find('h3', class_='cate24h-title')\n",
        "            title = title_element.a.text.strip() if title_element else None\n",
        "\n",
        "\n",
        "            summary_element = article.find('p', class_='cate24h-sapo')\n",
        "            summary = summary_element.text.strip() if summary_element else None\n",
        "            link = title_element.a['href'] if title_element else None\n",
        "            image_element = article.find('img', class_='cate24h-avt')\n",
        "            image_link = image_element['src'] if image_element and 'src' in image_element.attrs else None\n",
        "\n",
        "            article_response = requests.get(link)\n",
        "            if article_response.status_code == 200:\n",
        "                article_soup = BeautifulSoup(article_response.text, \"html.parser\")\n",
        "                content_element = article_soup.find('div', class_='nwsCt')\n",
        "                content = content_element.prettify() if content_element else None\n",
        "\n",
        "            else:\n",
        "                content = None\n",
        "\n",
        "            print(\"Tiêu đề:\", title)\n",
        "            print(\"Tóm tắt:\", summary)\n",
        "            print(\"Nội dung:\", content)\n",
        "            print(\"Link:\", link)\n",
        "            print(\"Link ảnh:\", image_link)\n",
        "            print(\"-\" * 20)\n",
        "\n",
        "        print(\"Lấy dữ liệu thành công\")\n",
        "    else:\n",
        "        print(\"Lấy dữ liệu thất bại\")\n",
        "\n",
        "# url\n",
        "url = \"https://www.24h.com.vn/tin-tuc-cong-nghe-c453.html\"\n",
        "extract_article_info(url)"
      ],
      "cell_type": "code",
      "metadata": {
        "colab": {
          "base_uri": "https://localhost:8080/"
        },
        "id": "pCifjDGUNf0_",
        "outputId": "c23bc339-9b53-4b45-db60-4e0cd94c5286"
      },
      "execution_count": 4,
      "outputs": [
        {
          "output_type": "stream",
          "name": "stdout",
          "text": [
            "Requirement already satisfied: requests in /usr/local/lib/python3.11/dist-packages (2.32.3)\n",
            "Requirement already satisfied: beautifulsoup4 in /usr/local/lib/python3.11/dist-packages (4.13.4)\n",
            "Requirement already satisfied: charset-normalizer<4,>=2 in /usr/local/lib/python3.11/dist-packages (from requests) (3.4.1)\n",
            "Requirement already satisfied: idna<4,>=2.5 in /usr/local/lib/python3.11/dist-packages (from requests) (3.10)\n",
            "Requirement already satisfied: urllib3<3,>=1.21.1 in /usr/local/lib/python3.11/dist-packages (from requests) (2.4.0)\n",
            "Requirement already satisfied: certifi>=2017.4.17 in /usr/local/lib/python3.11/dist-packages (from requests) (2025.4.26)\n",
            "Requirement already satisfied: soupsieve>1.2 in /usr/local/lib/python3.11/dist-packages (from beautifulsoup4) (2.7)\n",
            "Requirement already satisfied: typing-extensions>=4.0.0 in /usr/local/lib/python3.11/dist-packages (from beautifulsoup4) (4.13.2)\n",
            "Lấy dữ liệu thành công\n"
          ]
        }
      ]
    },
    {
      "source": [
        "!pip install requests beautifulsoup4\n",
        "!pip install smtplib\n",
        "\n",
        "from bs4 import BeautifulSoup\n",
        "import requests\n",
        "import smtplib\n",
        "from email.mime.text import MIMEText\n",
        "from email.mime.multipart import MIMEMultipart\n",
        "\n",
        "def get_genk_news():\n",
        "    response = requests.get(\"https://genk.vn/\")\n",
        "    if response.status_code == 200:\n",
        "        soup = BeautifulSoup(response.text, \"html.parser\")\n",
        "        news = soup.findAll('h4', class_='knswli-title')\n",
        "        links = [link.find('a').attrs[\"href\"] for link in news]\n",
        "        email_body = \"Các tin tức mới nhất từ Genk.vn:\\n\\n\"\n",
        "        for i, link in enumerate(links):\n",
        "            email_body += f\"{i+1}. {link}\\n\"\n",
        "        return email_body\n",
        "    else:\n",
        "        return \"Không thể lấy dữ liệu từ Genk.vn\"\n",
        "\n",
        "def send_email(sender, receiver, subject, body, password):\n",
        "    message = MIMEMultipart()\n",
        "    message['From'] = sender\n",
        "    message['To'] = receiver\n",
        "    message['Subject'] = subject\n",
        "    message.attach(MIMEText(body, 'plain'))\n",
        "    try:\n",
        "        server = smtplib.SMTP('smtp.gmail.com', 587)\n",
        "        server.starttls()\n",
        "        server.login(sender, password)\n",
        "        text = message.as_string()\n",
        "        server.sendmail(sender, receiver, text)\n",
        "        print(f\"Email đã được gửi đến {receiver}\")\n",
        "        server.quit()\n",
        "    except Exception as e:\n",
        "        print(f\"Lỗi khi gửi email: {e}\")\n",
        "\n",
        "if __name__ == \"__main__\":\n",
        "    sender_email = \"vu_2051220078@dau.edu.vn\"\n",
        "    app_password = \"advx mngm zkke bwtx\"\n",
        "    receiver_email = \"vu_2051220078@dau.edu.vn\"\n",
        "    subject = \"Tin tức từ Genk.vn\"\n",
        "    body = get_genk_news()\n",
        "    send_email(sender_email, receiver_email, subject, body, app_password)"
      ],
      "cell_type": "code",
      "metadata": {
        "id": "q7yx6MTcrmMa",
        "outputId": "a772dd3d-0dfe-4b8a-9c3e-a892a84fc094",
        "colab": {
          "base_uri": "https://localhost:8080/"
        }
      },
      "execution_count": 5,
      "outputs": [
        {
          "output_type": "stream",
          "name": "stdout",
          "text": [
            "Requirement already satisfied: requests in /usr/local/lib/python3.11/dist-packages (2.32.3)\n",
            "Requirement already satisfied: beautifulsoup4 in /usr/local/lib/python3.11/dist-packages (4.13.4)\n",
            "Requirement already satisfied: charset-normalizer<4,>=2 in /usr/local/lib/python3.11/dist-packages (from requests) (3.4.1)\n",
            "Requirement already satisfied: idna<4,>=2.5 in /usr/local/lib/python3.11/dist-packages (from requests) (3.10)\n",
            "Requirement already satisfied: urllib3<3,>=1.21.1 in /usr/local/lib/python3.11/dist-packages (from requests) (2.4.0)\n",
            "Requirement already satisfied: certifi>=2017.4.17 in /usr/local/lib/python3.11/dist-packages (from requests) (2025.4.26)\n",
            "Requirement already satisfied: soupsieve>1.2 in /usr/local/lib/python3.11/dist-packages (from beautifulsoup4) (2.7)\n",
            "Requirement already satisfied: typing-extensions>=4.0.0 in /usr/local/lib/python3.11/dist-packages (from beautifulsoup4) (4.13.2)\n",
            "\u001b[31mERROR: Could not find a version that satisfies the requirement smtplib (from versions: none)\u001b[0m\u001b[31m\n",
            "\u001b[0m\u001b[31mERROR: No matching distribution found for smtplib\u001b[0m\u001b[31m\n",
            "\u001b[0m"
          ]
        },
        {
          "output_type": "stream",
          "name": "stderr",
          "text": [
            "<ipython-input-5-86a3d8080b2a>:14: DeprecationWarning: Call to deprecated method findAll. (Replaced by find_all) -- Deprecated since version 4.0.0.\n",
            "  news = soup.findAll('h4', class_='knswli-title')\n"
          ]
        },
        {
          "output_type": "stream",
          "name": "stdout",
          "text": [
            "Email đã được gửi đến vu_2051220078@dau.edu.vn\n"
          ]
        }
      ]
    }
  ],
  "metadata": {
    "colab": {
      "provenance": [],
      "authorship_tag": "ABX9TyMc8frMQSgEdQhcBzadX7Pj",
      "include_colab_link": true
    },
    "kernelspec": {
      "display_name": "Python 3",
      "name": "python3"
    },
    "language_info": {
      "name": "python"
    }
  },
  "nbformat": 4,
  "nbformat_minor": 0
}